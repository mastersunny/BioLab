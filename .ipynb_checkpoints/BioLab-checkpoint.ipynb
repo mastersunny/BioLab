{
 "cells": [
  {
   "cell_type": "markdown",
   "metadata": {},
   "source": [
    "# ba1a"
   ]
  },
  {
   "cell_type": "code",
   "execution_count": 10,
   "metadata": {
    "collapsed": false
   },
   "outputs": [
    {
     "data": {
      "text/plain": [
       "2"
      ]
     },
     "execution_count": 10,
     "metadata": {},
     "output_type": "execute_result"
    }
   ],
   "source": [
    "def PatternCount(text, pattern):\n",
    "    count = 0\n",
    "    n = len(text)\n",
    "    k = len(pattern)\n",
    "    for i in range(n-k+1):\n",
    "        if text[i:k+i]==pattern:\n",
    "            count+=1\n",
    "    return count\n",
    "\n",
    "PatternCount(\"GCGCG\",\"GCG\")"
   ]
  },
  {
   "cell_type": "markdown",
   "metadata": {},
   "source": [
    "# ba1b"
   ]
  },
  {
   "cell_type": "code",
   "execution_count": 11,
   "metadata": {
    "collapsed": false,
    "scrolled": true
   },
   "outputs": [
    {
     "name": "stdout",
     "output_type": "stream",
     "text": [
      "GCAT CATG "
     ]
    }
   ],
   "source": [
    "def FreqWord(text,k):\n",
    "    n = len(text)\n",
    "    m = {}\n",
    "    for i in range (n-k+1):\n",
    "        pattern = text[i:k+i];\n",
    "        if pattern in m:\n",
    "            m[pattern]+=1\n",
    "        else:\n",
    "            m[pattern]=1;\n",
    "    max_value = max(m.values());\n",
    "    for key, value in m.items():\n",
    "        if(value==max_value):\n",
    "             print(key,end=\" \")\n",
    "\n",
    "FreqWord(\"ACGTTGCATGTCGCATGATGCATGAGAGCT\",4)"
   ]
  },
  {
   "cell_type": "markdown",
   "metadata": {},
   "source": [
    "# ba1c"
   ]
  },
  {
   "cell_type": "code",
   "execution_count": 12,
   "metadata": {
    "collapsed": false
   },
   "outputs": [
    {
     "name": "stdout",
     "output_type": "stream",
     "text": [
      "ACCGGGTTTT\n"
     ]
    }
   ],
   "source": [
    "from Bio.Seq import Seq\n",
    "def ReverseComplement(text):\n",
    "    seq = Seq(text)\n",
    "    return seq.reverse_complement()\n",
    "    \n",
    "print(ReverseComplement(\"AAAACCCGGT\"))"
   ]
  },
  {
   "cell_type": "markdown",
   "metadata": {},
   "source": [
    "# ba1d"
   ]
  },
  {
   "cell_type": "code",
   "execution_count": 13,
   "metadata": {
    "collapsed": false
   },
   "outputs": [
    {
     "name": "stdout",
     "output_type": "stream",
     "text": [
      "1 3 9 "
     ]
    }
   ],
   "source": [
    "def AllOccurrence(text,pattern):\n",
    "    n = len(text);\n",
    "    k = len(pattern)\n",
    "    for i in range (n-k+1):\n",
    "        if text[i:k+i]==pattern:\n",
    "            print(i, end=\" \")\n",
    "        \n",
    "AllOccurrence(\"GATATATGCATATACTT\", \"ATAT\")"
   ]
  },
  {
   "cell_type": "markdown",
   "metadata": {},
   "source": [
    "# ba1e"
   ]
  },
  {
   "cell_type": "code",
   "execution_count": 14,
   "metadata": {
    "collapsed": false
   },
   "outputs": [
    {
     "name": "stdout",
     "output_type": "stream",
     "text": [
      "CGCGCGTCT GGGGATATA CCGTGCTTC CGCGGATGT AGCTACGAC CGCTAGAGG TATATGTCA TCCAAAATT CCCGACGGC AGAATTAAT TACAAGTGT "
     ]
    }
   ],
   "source": [
    "def ClumpFinding(text,k,L,t):\n",
    "    n = len(text)\n",
    "    m_pattern = {}\n",
    "    for i in range (n-L+1):\n",
    "        sub_str = text[i:L+i]\n",
    "        for j in range (len(sub_str)-k+1):\n",
    "            pattern = sub_str[j:k+j]\n",
    "            count = sub_str.count(pattern);\n",
    "            if(count>=t):\n",
    "                if pattern not in m_pattern:\n",
    "                    m_pattern[pattern]= 1;\n",
    "                    print(pattern,end=\" \")\n",
    "                    \n",
    "ClumpFinding(\"TTACCGTTTAAGAAGTGCTTGGAAATGTCCTCGAATTCAGACGACATTAAGCATGTGAGGTTATGACTACTGATGCACACCCGACGCCCCGGAACAAAAATCGATCCGTCTATGATAGTCCCAATCCCACCACCCCAGTTCCGAGTGGCTTCTCGCTTGATACCCGTGCGCGCGCGTCTGCGCGTCTATCTTTGCTTAGCGCGCAGAGTCGCGACAACGCGCGTCTTAACATACGCGCGTCTACAGGCGCGCGTCTAACGCTACGACGAATCGCGCGTCTCGCCGCGCGTCTCGCCGCCGCGCGTCTCGCGCGTCTAGGGGCTCCGCGCGTCTCCTAACACCGCGCGTCTCGGTAGTTGGTACTCTGAATTCTTTGTTATGCCCCGCGCGCGCGTCTGAACTCAGGTGCTCAGGTGCCGCGCGTCTTCCTCCGCGCGTCTTTCATGTCAAGCGCGCGTCTGTGCGCTCACTCGCTATGCCCGCGCGTCTGGTAACTGCCTCAGGTGCCAGAACGTCGCGCGCGCGCCGCGCGTCTAAGAGGCGCAACTGGCGCGCGTCTCGTCTCGTTGTGCTCAGGTGCCGCGCGCGCGTCTACCAACCTCAGGTCTCCGCGCGTCCGCGCGTCTCTCAGGTGCGTATCTCTTCAGTTCCTCAGGTGCGCCGCGCGTCTTGCGCACATACCTCAGGTGCATGAAAAGATGATGCTCAGGTCGCGCGTCCGCGCGTCTGGGCATTGCTACGCTCAGGTGCGCTTCTCAGGTGCAGCGATCTCAGGTGCCTGTACTTGATATTCTTAGATCTCAGGTCTCAGGTGCAGGTGCTTACTCAGGTGCTCAGGTGCTGAACGACCTGCGACCACAACAGCCTGGATTGGCGAGGTGGTATTCTCCGAATGTCACTGATCGCAAGAAGCATGAAGGTGCTTAGCATGCCAACGTGGTGCTATCGCGTCACAGATAGCAATATCTTCGAAAACCTTTATACAGCAATTGAACGCATAAGGCGCCAAGATTCCAACCATAGGCAAAGATATTGTGTAGGGGAGGGACAAAACTACGACGCGGCTAGTGTTCAATCTGCGAAAGTAGAAGCGGCTCACAGCGACTCATCGCTCCATGCCACGCCTGGGTTGCCGCTCAAATTCAGGGCGGATGTTTTGTATGTACAAGCGATCAGACGCCACTAAGATTTATGGACTGCGTAGTCGCGGGTTCATAAAGATTGTGATGAATTCTTGGCCGAGTCAGGGGGATATAGGGGCGCTGAGAGTACCTTCGCGAGCTGCGGAATACGAGGAGTGCATTTATGGCATATTCCGATCATACATTCATGAGCTAGACCCGGGGGATATAGGGCTGACTGCAGGGGATATATGACTCGAATCCTCGGGGATCGGGGATATAATATACTAGTAAGCGGGGGGATATAGGGATGTCGATGACGGGGATATATGAGTTGGGGGGGATATACAGGGGGATATAACCGGATGTCCCACCCGGGGGGGGATATAGTGGGGTTGAACAAAGATTAGATGCTGCCCTGGTGGAGGTCAAGAGGGATCCGAGGGGATATAAGTTAGGTCAGCTTCCCTCATGGAGTTCCTTCAGGGCTGGGGGGATATAGGGGGATATAGCGGGGATATAAGCTGCAAAAGTCCTCGTATTATGCGTGGCACCCAAGGATATTTTCTCGGGGATATATAGCTGTAAGGTATGGGGATATACTCGGGGAGGGGATATGGGGGGGGATATATCGCTTCGCATATGCGGGGGGGATAGGGGATATAGATATATACCGGGGATATGGGGATATAGTGTCGGGACCCGTGCTTCTGTTTATCTCCGACGTAGGCAGTCTCGGCGATTTCCGTGCTTCTAACTCTATCCGTGCTTCAAATAACACCGTGCTTCGAGGTGCGATTTTATCCCCCCTTTACCGTGCTTCGGCCTCCTAGTCCAGATAAGAGCCGCCAGTCGGTCTGTACCGTGCTTCTTTCAGTTAGGTTTATTCCCCTGGAGACCGTGCTTCCCGTGCTTCCCGTGCTTCGCACCGTGCTTCCGTGCTTCTTCCCGTGCTTCTTCAATTGCCCGTGCTTCGTCCGTGCTTCTGCCGTGCTTCGAAGGAGAGCATATCCTCTCCCCCTCGGAATGTGGCTTGACGTTGAATCCCCTTAACGCGCGCGGATGTACCCCCGTGCTTCTCGCGGATGTGCCACCGTGCTTCCAACCACCGTGCTTCGCGGATGTGTCAGACCCGTGCTTCATGTCCGTGCTTCGATGCCGTGCTTCTTCGGTCATCGCTGGAGTATGTACTGGACCCCGTGCTTCGCCGTGCTTCTATCCGTGCTTCGATGTCAAGTTCGGAAAGCAATTAACCACGCGCGCGGATGTCGCGGATGTCGTTCGCGGATGTTCCCGCGGATGTTATAGAGCTTGGCGCGGATGTCGCGGATGTGGACGCGGATGTTAAAGCTAGCGGGAGTGGGCCGCGGATGTCCAGGAGTTGATGGAGGTGTCCTACTACTCCGCGGATGTGTGAGGTTATTCAATACAGCAAGGTCAGACGGCATGAAAGAAGTCAAACTTCGCGGATGTCGGCGAGTTACATAAAAAGAGCATTCGCTCGCGGATGTACTCGTCCGCGGATGTTTTGCTCGACAAACCGCGGATGTTCGCGGATGTCCGCGGATGTGTGTCGCGGATGTGCTATCATAAGACGCGGACGCGGATGTATCCGCGGATGTCTATGGAGGGCGCGGATGTGAAGGATTGTTTTTACCCTCTCTGGCCCTCCCAGAAGGCCAATCCACTCCCTATCGATATAGTTAGCTAATTTCCCAATGCAGCGTCCACGACTAGGAATGTGCCGATTCCGCAGGTGTTTCCTTTGACGGAGCGTAAAGCAGGCACGTTATCCAAGGGGACCCCTCCGGCGGTGCCAAGATTTTATGTCCTAACCGGGGACTGGAACGTTTCCGTGCGATCAATCATAAGATTTGCGCTGGGGAAAATTAGAGATGTATTCAAACTCAGCTCCAGAACTCCGTGCGGTGGTTTTGGTATTTCAGAACGGTTGCGGCGGCGGACGCCTCTAAAGATTGTCTTGTGCAGGTGTTTTCTCTGGTGCGAAACATTTAACGCGAGAAAATCGCTCCCAACACATTGTCCGCTGTCTGAATTAGACGCCGAATCTAGCAATACTATTTAGGATGGCAACCTCACCCGGCAATGCCAGTGATAGAGCTCGCGTGCGTGTAAGATGAAACTAGTGAGAATGCTAAGCTACGACGTGGTATAATCCCGTAGCTACGACCTTCATTGCCTCAAGAAGCTACGACAAGAAAGGCAGCGTCCCACTCCTCCGCCAGCAGGAGTGCGACGCAAGCTACGACGACAGAAGCTACGACACGACGCTACGACGCTACGACAGATCTTATTTTTTGGACCTAGCTACGACTTCTAGTAAGCTAGCTACGACGCTACGACCAAGCTACGACCTAAGCTACGACCGACAAGCAGCTACGACACGCGCTAAGTGAGCGCTGTCAGCTACGACTCACTAGCTACGACAGCTACGACTATATTGGAGCTACGACACTGCTAGGACGCGTGGATGCCAACGGTAAACATTATTTTCGTAAGTCTTCCTGATTTAGTAAATGAGCTACGACAGCCAGGGGTGCACAAGCTACGACGTGCCTCTATGCACGTTCGAGCTACGACCCCAGCTACGACGCTACGAGCTACGACACGACCAGCTACGACAACAGTCCCATACGATCGATTACCTTGGATCAGCTACGACCGCTAGAGGATAGCTACGACGGCGCTAGAGGGATTTGTGTCGGGATCTACGCGTATAGTCTACCGGCTGCGCTCGCTAGAGGCGCTCTTTCGCAACAGATTCGCTAGAGGTTATCCAACCCCGCAGAGCCAAATCACGCTAGCGCTAGAGGGAGGTGACTATGATTACTTTCATGTGTCAGCAGTCCGGCATGCGGCTCAACGCTAGAGGCTACGCTAGAGGCACCCGCTTCAGACGCGTGTCGCTAGAGGGGGCACCGAGCGCTAGAGGTCCCGCTAGAGGCCGCTAGACGCTAGAGGAACTCGCTAGAGGATCAGGACCTTACATGCCTGTGATTGAATCGCTAGAGGGCGGATGTAAAGGCCATCTCCAAACACGGGTGACGTATATGCGCTAGAGGCAGGATTGCATATTAGTTGAGTCCGCGCTAGAGGGGGGAAGAAGAAATAACGCTAGAGGGTACACGGTCATTGCGCTAGAGGGAGGCTAGAGGTTACTCCATCGCTAGAGGAACTTCGCCGCTAGAGGAGGAGCGTGAATTGCGCGCTAGAGGCGTAGCCGCTAGAGGGGCGCAACGGAGGACTGTATACCGACATCCGCTACACTCACTATGGCTAAATTGATCTTCGAGCTGAACGACCGAGTAGCAGATTAGAAGAGGAATTCGTCTACCAGTACTTACGATGGTAGGGTCGATTGAGGTACTCCTTTGAACTCAGGGGTTCGAGAATGGCCTTCTTCACAACTGACCGCCAATCCACTGGTCGGCTTCTGCCGGAAGGGGTAATAACCGCCAGGCGAATATGGATCTCCAAAACCGTCTCCTTCATAGCTTCACCTTATATGTTCTCGTTTCGGCTCGTAAAGGTACTCAAATCACGTTCAACGCGATGATTGATTTGTCAACAACTTAAAGGTGTCGATGAAACGCAATATGGAAGTGATTATTTCGTTGTTTCACAACTCGCCACGTCCTCCCAAATTCCCCTGCGTTCAAGATTGCATTATATGTCACCGATCTCATCCTATATGTCATATGTCATGAGTAAGTACGTAAATTTTGTTAGTGCTATATGTCAGTTTTGACCGTATATGTCAATCTTATATGTCAGTATATGTCATTGTTTCACAGTGTATATGTCAAGCTCACCTCCTATATGTCATCAACATGGGGGGAAAGGAGGCCACTGGGTCAACTACATCTACTATATATGTCATATGTCAATGTCAGAACTTATATGTCAGTCTATATATGTCACTGACAACATGTATATGTCAAATTATATGTCACATATATGTTATATGTCATCAAGCATACTGAGTGTATATGTCAATGCAATATATATGTCTATATGTCACAATTCTGGATATATGTCACTATATGTCAATGTATTAATATCTTACCATACATAGGCCGGCCACATATATGTCACGAGTTTTTTATATGTCAATATGTCAAACTACTCTAAGCTATATGTCACCCGTGTCTCGTATTGACCGCGTTACCTGTTGGTATATGTCATTTTATATGTCACCACCCCATCCAGGCGTTATATGTCATCAAATCGTCGCTATATGTCAACGTTTGCTGATAATTTATCGCCTTGCTTAAAAATACTGCCAACCGATCATCCATGGCAGCCGGATACCGCCCGCTTCCTACGAGACAAGCTTGTCCCAGGGGTAACAAGGCAAGTCCTACCAGCCCATCATTACGGGCTGGTGACCATCCGCACAAGAGGGCGCTACTCCCACCCGCGTGTTCGAGGCCAGGTTTGGGCCTCCAGATCACTGATGGATGGTGAGGAGTGCAGTTAATAAACTCATCTCAAGGGCGGTGATCCAGATCCAAACTTCCAAAATTCAACATCCAAAATTTCTTTCTTGCGGTAAAACTCCAAAATTCACCACGATAGACGTGAGGCATCCTCCAATCCAAAATTACTCCAAAATTTTACCTGTAGTCCAAAATTTTCCAAAATTCTAACCTGAGCAGTACGAGGCGCCTCCAAAATTCGCCCTCCAAAATTTCCAAAATTATGTCCAAAATTCGTGGTACGGTCATCATTTTCCAAAATTCAAAATTGATAACCTCGATCCAAAATTTTTACGTGACTCTATTTGCCCAAAGATATAACCAAGACGGTTCCGTCCCTTGACTGTCGTCGCGTGATTGACGGACTCAGACGTAACCCGCGTATCACCTTGCATTTACGTGGGGAGTAACGCTCCAAAATTCTAGCGATCTCTGTTCCAAAATTCATTATCACCTCCAAAATTCCAAAATTGCACTTCAGGTCCAAAATTTATTGTCTATCCAAAATTCTTTGGAAGTTCCAAAATTCAAAATTGATTTCACCAAACTCCAAAATTGGCAGGGGGATACGTAAGGCTGAACTCACAGGTCCCCAGCTACGCGTTGCAGAGATTGAGCCTCCAAAATTGGGGCGGGCCGGTGGGTGGTCGGGCTAGAACAGCAGGAATAATGGGTGAGAGACCAATAAATTCTCGACGATCTATCGCTTAGGTAGCGTGATTATCCCCTGGAGTAGTGCCTTGTTCCGCTTTGCACGACGGGGGCTAATCATGCCACGCAGGACCGACTTCCCGCCCGACGGCGCCATAGCGGCTGTAGTCGGGATTGTCCAATCCCCGCTCCCGACGGCACCCGACGGCACCGAACCCGACGGCAACACACCCGACGGCCCGACCCCGACGGCCCCGACGGCGCCAGGGTCCGGAGCCCGACGGCGGAGGTCGTCGTAATACCCGACGGCAGCGCGTATACCCCGACGGCCCGACGGCGTCATTTCCTGAGTGCCCGACGGCGGTTACCAGAGCAAGGGCATAAATGAGAACATTTCATGTGCTCCCCGTAAGAAGTTGACTGCCCCGACGGCGGAAAGTTAATAACGTCGTACTATCCATCTGCCTGGGCCATTACCTTCACCTCGTTCCCGACGGCCGGCGCCGCAGAAGACGTCTGAGTAGATTGCCTCAGACTGCGAATGCTTAGGTCTTCTTCTCACAAAACGACCCGACGGCCCGACGGCCGACGGCCCCGACGGCTGGTCCAAAAAGTCACATAAGTTCTGCCCGATCCGCCCCGACGGCACACCCGACGGCAACGTACGCTACCCGACGGCAGTAGTGCCGGGTTTCATCACAAGGCCGTGTTCAGCGTCTCGTGGCCAACTCTCGAGGTTGCGTCTCAAAAGGTTCGTTGGTGACATACAATTTGTGATTGGCTAACTCTCCCACAAGGCGTATCTAGAAGAACAGAGTAAGTTATCGGAAATTTCCATGGTACAAGTTAGGAGCTCTGCATCTGAGCAAAACGTGCTGAACTGACGGGAGAATAGGTTCTGACTCACAGGCCAGATTGTCTACAAGACCGTTTTATGGCAGGCAAGCGAGTGTTAATCCTCGATTTGGGGGTTAATGGTTCTTTAGGGAGAATTAAAGAATTAATCCCGGGCCTACAGGTGGCCTACAGATGGCCTACAGTTAAAAAGAGAATTAATATTAATAAAGGGGGCCTACGGCCTACAGTCCATGAATAAACTCTATGCAAAGGTGGAGAATTAATCAGAAGAATTAATGACTACGAGAATTAATCCTACAGGCCTACAAGAATTAATAGAATTAATTACAGTACAGCTAGTGGATACAGGTAGTTTAAAGAATTAATCGGCCTACAGAAAATCAGAATTAATAGAATTAATCCTACAGAACTGCAGGTAAAGCGAGAATTAATGTCTGCTGGGCCTACAGAGATTGAGAAAGAATTAATCCTACAGAAGAATTAATAGATAGACGTCCGAAGCCGCTTGGCTTTTAGTTTTAAAGAAAAGAATTAAGAATTAATCGGCCTACAGTTGGATGTCAACCGGTTACTCGAGTCCCAACCGGTAGAATTAATTAGAATTAATTACAGATGACATAGCGCATGGCCTACAGCAGTAGAATAGAATTAATCCACAGGCCTACAGGGAAGAATTAATCTACAGCTGGTTGGGGCCTAAGAATTAATTTAATCAGAGCCAACTTCTGTTCTCCGCCCAACGTATAAGATAGGACGCCGATACCTCCGGGTTCTCGCTAGCTGGAGATGCCGCGTGGTCGTGGAGTACCGAGCGCTGCGCAGCGGGCGTGCTCTCCAAGCCCGGACAGATTGCCCTACAAAATGGCTCGTGGGCCCATCTTTGAGTCGTATGTCGGGGTATATCGATGCGTACTAACCCTCGGACCGACTGGCATTATGCAAGCACATTTTGGAGGCTCACGTTGAGCTACCCTCGCACGACGGTACGGACGGTGGGCTTTCGGTCACGCACTTTTCAGCTACTCACGAGCTAATTCCAAGACACTGCTCTAGGTCCGCATTTCAGAGTTTTCCGACTAGGGTTGCGCCGCAAGGGTTGAGGAGATTACCAACTCTGAACTACCTAGTGCCCCTCAACTACCCTTCTAACTTATCGAACTTTTCGAAGCTTTGACGGGGATTTTGGGGGGGCTTACGTGGCAGGGGTGGGCTCGAGCTCAATTCCAAAGTAACTATATGAGTACATACAAGTGTTCCGGCTTAAGTCTCCCGGCTGAGTACAAGTGTCTCTCACGGATGAAGAGGTTTATGTTACAAGTGTGCTACAAGTGTCAGAGTACGAGCGATACGACCACATGGCGTTATGGTCTGCGAACCAGAGTGTGTACAAGTGTGAGGACGTTACAAGTGTCTTACAAGTGTGTGTTCTCGACCTGGCCAAGTGATACTACAAGTGTTACAAGTGTGTTGATAGTTCTAATCTGTGAGGGACTACAAGTGTGCGAAAAAGTACAAGTGTGTACAAGTGTAAATACTGGTAGTAATCTTTACAAGTGTTCATTACAAGTTACAAGTGTGTGGTCTCGATTATTCCCACCTCATAAAGAGAGTTTCCCTATAGGCCCATGCCCGTTTTAGAGTACCTTGATACAAGTGTGCCTAGAGTTTACATACAAGTGTAGTGTTGTTGGGGATTCATTTTTTATTTTCCATTCGTTGCATCGAGTAGTTGTTACAGACCTTACAATACAAGTGTGTTATACAAGTGTTCCTCTACAAGTGTCATACTACAAGTGTTCATCCGCCCGGCTTACATACAAGTGTCGACGCCGCTAGTCTACTCCGAACGGCGCAGAAAACTGATTGCGAATCAAAAATGCCACTAAGAATATGCAACCCTCTGACATAGCCACCTCAATGGGTTCCAAGCCCAATTTTCTATAGAACACGGTGTATGACGGTAATCATGAGTCACACAGTCAATAAACTTATTCCAGTTTAGAACCGAAGGTCCTAGCTGCTCCGGACCTAAAAACGAGCTGAGTCTACCTTACATCTGAACTTATTTTGCGCTGTCTCATCCGATATGGGATTCCGGTGGAACATAGATCATATGATACGATGCACGTAACAGACGCTAGGTATACCCCTAACATAAGCTCTTAAGACCATGAACAATGGTCAACTCTACGGCCTGGTTGGATTTGTTATAGCATTCCATAGACCGTTCTCATTAGGAGTTCAGGGGTCCGGCCAACGCTTCTCGGGTATAAAGCCGTCTCCACATCTCCTCTTAGAGTGTACCCTCCGTAAATTTTGGTGGGAGAAGGGATAGGCTTTCCATGTTCGCAGCACGGCTCGAGCTTGAAGTGCAATAGGGTAGCGCTTTGTGATACGGACTCACCCACGAGCCACTTAGGGCGCTGAGGAACGAGTAGTTTTTACTAAACCCAATACCGGCACCAGGCATGTATGGCGATCCGATCAGAAAGTGGGACTTCAGCTGCAACGAAGTCCAGTGTAGGTACTTTAGCATATTAGGGGGATACCAACCAGACAGACGTTACGATATATGTGGGACAAGAAGCCATTCTCGGGAGTACGTAAGACCACGTGTCCAACACTTTTCGTACCTATT\",9,514,17)"
   ]
  },
  {
   "cell_type": "markdown",
   "metadata": {},
   "source": [
    "# ba1f"
   ]
  },
  {
   "cell_type": "code",
   "execution_count": 15,
   "metadata": {
    "collapsed": false
   },
   "outputs": [
    {
     "name": "stdout",
     "output_type": "stream",
     "text": [
      "53 97 "
     ]
    }
   ],
   "source": [
    "def skew(text):\n",
    "    n = len(text)\n",
    "    g = 0\n",
    "    c = 0\n",
    "    min_val=1000000000\n",
    "    skew_map={}\n",
    "    for i in range (n):\n",
    "        if text[i]=='G':\n",
    "            g+=1\n",
    "        if(text[i]=='C'):\n",
    "            c+=1\n",
    "        diff = g-c\n",
    "        if(diff<min_val):\n",
    "            min_val = diff\n",
    "        skew_map[i+1]=diff\n",
    "    for key,value in skew_map.items():\n",
    "        if(value==min_val):\n",
    "            print(key, end=\" \")\n",
    "\n",
    "skew(\"CCTATCGGTGGATTAGCATGTCCCTGTACGTTTCGCCGCGAACTAGTTCACACGGCTTGATGGCAAATGGTTTTTCCGGCGACCGTAATCGTCCACCGAG\")"
   ]
  },
  {
   "cell_type": "markdown",
   "metadata": {},
   "source": [
    "# ba1g"
   ]
  },
  {
   "cell_type": "code",
   "execution_count": 34,
   "metadata": {
    "collapsed": false
   },
   "outputs": [
    {
     "data": {
      "text/plain": [
       "3"
      ]
     },
     "execution_count": 34,
     "metadata": {},
     "output_type": "execute_result"
    }
   ],
   "source": [
    "import operator\n",
    "\n",
    "def hammingDist(seq1,seq2):\n",
    "    return sum(map(operator.ne,seq1,seq2))\n",
    "\n",
    "hammingDist(\"GGGCCGTTGGT\",\"GGACCGTTGAC\")"
   ]
  },
  {
   "cell_type": "markdown",
   "metadata": {},
   "source": [
    "# ba1h"
   ]
  },
  {
   "cell_type": "code",
   "execution_count": 17,
   "metadata": {
    "collapsed": false
   },
   "outputs": [
    {
     "name": "stdout",
     "output_type": "stream",
     "text": [
      "6 7 26 27 78 "
     ]
    }
   ],
   "source": [
    "def ApproximateOccurance(text,pattern,d):\n",
    "    n = len(text)\n",
    "    k = len(pattern)\n",
    "    for i in range(n-k+1):\n",
    "        if(hammingDist(text[i:k+i],pattern)<=d):\n",
    "            print(i,end=\" \")\n",
    "\n",
    "ApproximateOccurance(\"CGCCCGAATCCAGAACGCATTCCCATATTTCGGGACCACTGGCCTCCACGGTACGGACGTCAATCAAATGCCTAGCGGCTTGTGGTTTCTCCTACGCTCC\",\"ATTCTGGA\",3)   "
   ]
  },
  {
   "cell_type": "markdown",
   "metadata": {},
   "source": [
    "# ba1i"
   ]
  },
  {
   "cell_type": "code",
   "execution_count": 18,
   "metadata": {
    "collapsed": false
   },
   "outputs": [],
   "source": [
    "import itertools\n",
    "\n",
    "def getCombination(k):\n",
    "    l = []\n",
    "    for combination in itertools.product(['A','C','G','T'], repeat=k):\n",
    "        l.append(''.join(map(str, combination)))\n",
    "    return l"
   ]
  },
  {
   "cell_type": "code",
   "execution_count": 19,
   "metadata": {
    "collapsed": false
   },
   "outputs": [
    {
     "name": "stdout",
     "output_type": "stream",
     "text": [
      "ATGC ATGT GATG "
     ]
    }
   ],
   "source": [
    "def FreqWordWithMismatch(text,k,d):\n",
    "    n = len(text)\n",
    "    m = {}\n",
    "    l = getCombination(k)\n",
    "    for i in l:\n",
    "        pattern1 = i\n",
    "        count=0\n",
    "        for j in range (n-k+1):\n",
    "            pattern2 = text[j:k+j]\n",
    "            if(hammingDist(pattern1,pattern2)<=d):\n",
    "                count+=1\n",
    "        m[pattern1] = count;\n",
    "    for key,value in m.items():\n",
    "        if(value==max(m.values())):\n",
    "            print(key,end=\" \")  \n",
    "FreqWordWithMismatch(\"ACGTTGCATGTCGCATGATGCATGAGAGCT\",4,1);"
   ]
  },
  {
   "cell_type": "markdown",
   "metadata": {},
   "source": [
    "# ba1j"
   ]
  },
  {
   "cell_type": "code",
   "execution_count": 20,
   "metadata": {
    "collapsed": false
   },
   "outputs": [
    {
     "name": "stdout",
     "output_type": "stream",
     "text": [
      "ATGT ACAT "
     ]
    }
   ],
   "source": [
    "def FreqWordWithMismatchAndReverseComplement(text,k,d):\n",
    "    n = len(text)\n",
    "    m = {}\n",
    "    l = getCombination(k)\n",
    "    for i in l:\n",
    "        pattern1 = i\n",
    "        count1=0\n",
    "        count2=0\n",
    "        for j in range (n-k+1):\n",
    "            pattern2 = text[j:k+j]\n",
    "            if(hammingDist(pattern1,pattern2)<=d):\n",
    "                count1+=1\n",
    "            if(hammingDist(ReverseComplement(pattern1),pattern2)<=d):\n",
    "                count2+=1\n",
    "        m[pattern1] = (count1+count2);\n",
    "    for key,value in m.items():\n",
    "        if(value==max(m.values())):\n",
    "            print(key,end=\" \")  \n",
    "FreqWordWithMismatchAndReverseComplement(\"ACGTTGCATGTCGCATGATGCATGAGAGCT\",4,1);"
   ]
  },
  {
   "cell_type": "markdown",
   "metadata": {},
   "source": [
    "# Frequency Array"
   ]
  },
  {
   "cell_type": "code",
   "execution_count": 21,
   "metadata": {
    "collapsed": false
   },
   "outputs": [
    {
     "name": "stdout",
     "output_type": "stream",
     "text": [
      "2 1 0 0 0 0 2 2 1 2 1 0 0 1 1 0 "
     ]
    }
   ],
   "source": [
    "def FreqArray(text,k):\n",
    "    n = len(text)\n",
    "    l = getCombination(k)\n",
    "    for i in l:\n",
    "        count=0\n",
    "        for j in range(n-k+1):\n",
    "            if i==text[j:k+j]:\n",
    "                count+=1\n",
    "        print(count,end=\" \")\n",
    "        \n",
    "FreqArray(\"ACGCGGCTCTGAAA\",2)"
   ]
  },
  {
   "cell_type": "markdown",
   "metadata": {},
   "source": [
    "# d-Neighborhood"
   ]
  },
  {
   "cell_type": "code",
   "execution_count": 26,
   "metadata": {
    "collapsed": false
   },
   "outputs": [
    {
     "name": "stdout",
     "output_type": "stream",
     "text": [
      "AGG\n",
      "GCG\n",
      "ACC\n",
      "AAG\n",
      "ACT\n",
      "ACA\n",
      "CCG\n",
      "TCG\n",
      "ACG\n",
      "ATG\n"
     ]
    }
   ],
   "source": [
    "def Neighbourhood(pattern,d):\n",
    "    k = len(pattern)\n",
    "    l = getCombination(k)\n",
    "    m = {}\n",
    "    for i in l:\n",
    "        if(hammingDist(i,pattern)<=d):\n",
    "            if i not in m:\n",
    "                m[i]=1\n",
    "    for key,value in m.items():\n",
    "        print(key)\n",
    "    \n",
    "Neighbourhood(\"ACG\",1)"
   ]
  },
  {
   "cell_type": "markdown",
   "metadata": {},
   "source": [
    "# MotifEnumeration"
   ]
  },
  {
   "cell_type": "code",
   "execution_count": 78,
   "metadata": {
    "collapsed": false
   },
   "outputs": [
    {
     "name": "stdout",
     "output_type": "stream",
     "text": [
      "ATA\n",
      "ATT\n",
      "GTT\n",
      "TTT\n"
     ]
    }
   ],
   "source": [
    "def WordWithMismatch(text,pattern,d):\n",
    "    n = len(text)\n",
    "    k = len(pattern)\n",
    "    for i in range(n-k+1):\n",
    "        if(hammingDist(text[i:k+i],pattern)<=d):\n",
    "            return True\n",
    "    return False\n",
    "              \n",
    "def MotifEnumeration(dna,k,d):\n",
    "    l = getCombination(k)\n",
    "    for pattern in l:\n",
    "        flag = True\n",
    "        for text in dna:\n",
    "            if (not WordWithMismatch(text,pattern,d)):\n",
    "                flag = False\n",
    "                break\n",
    "        if flag:\n",
    "            print(pattern)\n",
    "\n",
    "MotifEnumeration(['ATTTGGC','TGCCTTA','CGGTATC','GAAAATT'],3,1)"
   ]
  },
  {
   "cell_type": "markdown",
   "metadata": {
    "collapsed": true
   },
   "source": [
    "# Median String"
   ]
  },
  {
   "cell_type": "code",
   "execution_count": 99,
   "metadata": {
    "collapsed": false
   },
   "outputs": [
    {
     "name": "stdout",
     "output_type": "stream",
     "text": [
      "GAC\n"
     ]
    }
   ],
   "source": [
    "def MinNumberOfMismatch(text,pattern):\n",
    "    n = len(text)\n",
    "    k = len(pattern)\n",
    "    d = 1000000000\n",
    "    for i in range(n-k+1):\n",
    "        val = hammingDist(text[i:k+i],pattern)\n",
    "        if(val<=d):\n",
    "            d = val\n",
    "    return d\n",
    "\n",
    "def MedianStringSearch(dna,k):\n",
    "    l  = getCombination(k)\n",
    "    bestWord = \"\"\n",
    "    bestDistance = 10000000000\n",
    "    for pattern in l:\n",
    "        totalDistance = 0\n",
    "        for text in dna:\n",
    "            totalDistance += MinNumberOfMismatch(text,pattern)\n",
    "        if totalDistance <= bestDistance:\n",
    "            bestDistance = totalDistance\n",
    "            bestWord = pattern\n",
    "    return bestWord\n",
    "\n",
    "print(MedianStringSearch(['AAATTGACGCAT','GACGACCACGTT','CGTCAGCGCCTG','GCTGAGCACCGG','AGTACGGGACAG'],3))"
   ]
  },
  {
   "cell_type": "markdown",
   "metadata": {
    "collapsed": true
   },
   "source": [
    "# Profile Most Probable k-mer"
   ]
  },
  {
   "cell_type": "code",
   "execution_count": 55,
   "metadata": {
    "collapsed": false
   },
   "outputs": [
    {
     "data": {
      "text/plain": [
       "'TTC'"
      ]
     },
     "execution_count": 55,
     "metadata": {},
     "output_type": "execute_result"
    }
   ],
   "source": [
    "def ProfileMostKmer(text,k,l):\n",
    "    n = len(text)\n",
    "    maximum = -100.0\n",
    "    profileMost=\"\"\n",
    "    for i in range (n-k+1):\n",
    "        pattern = text[i:k+i]\n",
    "        mul = 1\n",
    "        for j in range (len(pattern)):\n",
    "            if pattern[j]=='A':\n",
    "                mul = mul*l[0][j]\n",
    "            elif pattern[j]=='C':\n",
    "                mul = mul*l[1][j]\n",
    "            elif pattern[j]=='G':\n",
    "                mul = mul*l[2][j]\n",
    "            elif pattern[j]=='T':\n",
    "                mul = mul*l[3][j]\n",
    "        if(mul>maximum):\n",
    "            maximum = mul\n",
    "            profileMost = pattern\n",
    "    return profileMost\n",
    "                    \n",
    "\n",
    "l = [[0.25, 0.25, 0.0],\n",
    "[0.0, 0.5, 0.75],\n",
    "[0.5, 0.0,0.0],\n",
    "[0, 0.0,0.0]]\n",
    "ProfileMostKmer(\"TTCCTT\",3,l)"
   ]
  },
  {
   "cell_type": "markdown",
   "metadata": {},
   "source": [
    "# Greedy Motif Search"
   ]
  },
  {
   "cell_type": "code",
   "execution_count": 79,
   "metadata": {
    "collapsed": false
   },
   "outputs": [
    {
     "data": {
      "text/plain": [
       "[[0.0, 0.0, 0.0], [0.0, 0.0, 0.2], [0.2, 0.2, 0.0], [0.0, 0.0, 0.0]]"
      ]
     },
     "execution_count": 79,
     "metadata": {},
     "output_type": "execute_result"
    }
   ],
   "source": [
    "def getProfile(motifs,rows,t):\n",
    "    profile = []\n",
    "    n = len(motifs[0])\n",
    "    l1 = []\n",
    "    l2 = []\n",
    "    l3 = []\n",
    "    l4 = []\n",
    "    for col in range(n):\n",
    "        count1=0\n",
    "        count2=0\n",
    "        count3=0\n",
    "        count4=0 \n",
    "        for row in range(rows):\n",
    "            if motifs[row][col]=='A':\n",
    "                count1+=1\n",
    "            if motifs[row][col]=='C':\n",
    "                count2+=1\n",
    "            if motifs[row][col]=='G':\n",
    "                count3+=1\n",
    "            if motifs[row][col]=='T':\n",
    "                count4+=1\n",
    "        l1.append(count1/t)\n",
    "        l2.append(count2/t)\n",
    "        l3.append(count3/t)\n",
    "        l4.append(count4/t)\n",
    "    profile.append(l1)\n",
    "    profile.append(l2)\n",
    "    profile.append(l3)\n",
    "    profile.append(l4)\n",
    "    return profile\n",
    "l = ['GGC']\n",
    "\n",
    "getProfile(l,1,5)"
   ]
  },
  {
   "cell_type": "code",
   "execution_count": 216,
   "metadata": {
    "collapsed": false
   },
   "outputs": [
    {
     "data": {
      "text/plain": [
       "5"
      ]
     },
     "execution_count": 216,
     "metadata": {},
     "output_type": "execute_result"
    }
   ],
   "source": [
    "import collections as c\n",
    "\n",
    "def getScore (motifs):\n",
    "    n = len(motifs[0])\n",
    "    score = 0\n",
    "    for i in range(n):\n",
    "        prob = c.Counter([s[i] for s in motifs])\n",
    "        score += sum(sorted(list(prob.values()),reverse = True)[1:])\n",
    "    return score\n",
    "l = ['GCC',\n",
    "'GGC',\n",
    "'AAC',\n",
    "'TTC']\n",
    "getScore(l)"
   ]
  },
  {
   "cell_type": "code",
   "execution_count": 223,
   "metadata": {
    "collapsed": false,
    "scrolled": true
   },
   "outputs": [
    {
     "name": "stdout",
     "output_type": "stream",
     "text": [
      "GTAGCCCGTCGT\n",
      "CCCCGCCGAAGG\n",
      "GATGCAACGTCG\n",
      "CCTCCACCTCCG\n",
      "CTTGGACGTACG\n",
      "TCCATGAAACTT\n",
      "GCCGGGCGTACT\n",
      "TTATAATTGGGC\n",
      "TTACGGCATCCT\n",
      "CCACCCAATACG\n",
      "CCAGAATAGACG\n",
      "TTACGGCGGGCT\n",
      "CTACGGCGTGCT\n",
      "CTACGGCGACCT\n",
      "GTACGGCTGACT\n",
      "CTACGGCTAGCT\n",
      "TTACGGCAGTCT\n",
      "CCAACGCTGAGT\n",
      "TTACGGCTGGCT\n",
      "CTCCCGCCATCG\n",
      "TTACGGCGGTCT\n",
      "GTACGGCGGGCT\n",
      "CTACCACGACCC\n",
      "TTCCCCCCAGCT\n",
      "TTACGGCTGCCT\n"
     ]
    }
   ],
   "source": [
    "def GreedyMotifSearch(dna,k,t):\n",
    "    bestMotifs = []\n",
    "    for i in dna:\n",
    "        bestMotifs.append(i[0:k])\n",
    "    string = dna[0];\n",
    "    m = {}\n",
    "    for i in range(len(string)-k+1):\n",
    "        motifs = []\n",
    "        motif = string[i:k+i]\n",
    "        motifs.append(motif)\n",
    "        for j in range(1,t):\n",
    "            l = getProfile(motifs,j,t)      \n",
    "            motifs.append(ProfileMostKmer(dna[j],k,l))\n",
    "        if getScore(motifs)<getScore(bestMotifs):\n",
    "            bestMotifs = motifs\n",
    "    return bestMotifs\n",
    "            \n",
    "\n",
    "l=['TCAAAAGCTCTTCCATCGAATCCATTCACGTGTATTCTACTAATTACTAGCGTTGTACACGTGCAACTATAGAGCACTGTTGGGGGTTGTTAGATTGACATCATAACCAGTAGCCCGTCGTACTGATCTCAAGTACGGCCGTCTACGTGTATTGTA',\n",
    "'CCCCGCCGAAGGGTCGGCAGGTGGTTTGATCTCTGCGTACGGCTTGCTGATAGTGGCGCACCGGGGATGTAACCAACCCTCGCTTCCACATCCCCTTAGGTTCCTCTCTATCGGAGATGCTATCGAACCCAGACTTAAGCGGTAAATTAGAAAGCG',\n",
    "'GATGCAACGTCGTGTTAGCCGTAGGTACGGCATACTCTGTTGCTATACCGTGAAGCACAGACGTGCCTCAAGAAACGGATGAACCAAATCGATATAAACCCGATCAGCGCTCACAAGGGATAACGACTGATAGTGAGGGTCGTACAGCAGTGGGAC',\n",
    "'CTCTGTGACTGATTACGGCAGCCTGCCTCCACCTCCGGACAGAGAATGAAATTTACGCCTGGTCAATAACGCCGCTTTTTTGCTAGTCGTCCGCCTTAGATCGGGACGATCTGAGTCGTTGGGATTAGAACTATAGAGTATAGAAAAGGGCGAATC',\n",
    "'TTCTGCCGTACAACTAAATACCGCGAAGCCTGTTTAAACCGTGGCTTAACGGATCTCAATTGTGCTGGAGAGTCTTTTATGCCCTAAGCTATTTTAGTCCCCTTGGACGTACGGCCTCCTCGCGCTGGTTCGAAGCGTCCGGTTCAAAATAGCGAG',\n",
    "'TCCATGAAACTTTTCTTGACTTTGGTACCATCTCAATATACTACAATAGGTAGCTGTCTGTACTCCTAGGCCACGTTGCTTGATTTGCGTAGCGAGATCAATGGAGGCGTACGGCCCACTAGTGAGAAAGGCATAAGCCCGTGTGGCCTCCAATGG',\n",
    "'TTGACTAGAGGTAGCCGGGCGTACTTACGGCTGCCTCTGTACACGCCAATACAGGAAAGACGTGACTGAGATGCGAGACCTCTTGCGTGCAGAGCGGGTCGAGAGACTGCAATGAGTGCCCAGCCGTGGCAACCGTAAGGCTCTTGTTAGTCCCAA',\n",
    "'TTATAATTGGGCAGTGTGGCGTGGCGCCTAGCCCCCTTACGGCTCTCTAATTTACCACCTAAACTCAAAGGTACTGGCTGGCGCCTCTCGCTTAGCCTGCCGACATAATGTCACAGTGGTCGGAAGGAATTGGAGGCGGCAATGCACAAAGGACGC',\n",
    "'GGTGGGATGCCTTATACGATAGAAGGGCCAGCCCTCGACGGTTCGCAGGTTCGTATTCCTGTAGGCGGTGGAAGGGACGCGAGGCTAACATCCAGGCCAACCAGAGTGGTTTAAACAAGATCGGAGATTCGCTTCAGGATCGGTTTACGGCATCCT',\n",
    "'GTAACCAATCCCGTTTGAAAGACCTTTCTTAGTATGTCTATCTAATTTTTGCTACCACTAAGTTGTGTTATTCAGCAGCGCAGTAAGGTCCACCCAATACGGCTTCCTACAAAGCACGCTAGGGAGCATAACCGTGAAAGCGTAAGGTTAAATAGC',\n",
    "'CCTTGAGGAAGGGTACGGCTCGCTCTGCAATAGCTACCGGCTCCCTCTTGCCCTGATCCAAACGTCTCGTCTGCTCGAGTCCAGAATAGACGGTCACTAACGGTCTGTCTTAAACGTTCCCTAGAGCGAACAAACAACGCGGCGTTATATCAACAT',\n",
    "'GACCGACTGCGCCACAACTAGGTGTTACGGCGGGCTTCTAACCGCCGGGTTCATCGAACTCTCAGTGGCCGTGCCTTTACACCCCAAGGGATGGGAAGTCCAACCATAATCTTAGGTCCCGGACTTCCATTGGGCCACAGATCCTCTGGGCTGAGT',\n",
    "'AATACCTCAGCGTGTGCGTCGCAAACTGACGACGCTGTCTCACTCCATGGGTAACCGCGGGGGTTCTTATGAGGGCACGTCATGCACATGACGGGGCGGAGCCCCTCTATGTAAGTAACCCTACGGCGTGCTGAGCGTTTCAATATCGAGCAACAG',\n",
    "'TCGAATAATGAAGTCTTGCAGAGGCCATTTTGAACCCTTAAGATAATACTACGGCGACCTATCAGCCCTCACCTTTGCGGACAATTGCACGCAACCTCCTCGGCAAGGAGCACTCGATCCGTGCGTAATAAGGTGTGGTTTATGTCCAGGGCAATA',\n",
    "'CCGAATGTTTCTCACACCACATACATGGACGTCCGTGAACTTGCGTGTGCGCATCGAGCACGTAAATGTTTCACGGGGGAATTATGATTCTGGTCTGTACGGCTGACTAGCTGTACTATGACACACTCACAGGTCTTACAGGAATAAGCCTGGCGA',\n",
    "'ATTGTAGGCCAGTCACATTAGGCAAAAATATCTGGGTAGGTCGGGTGATGGGGCACTAGGTCTGTAAGGCTTGGCCGGCTCGGTCATCTCATGTTACTACGGCTAGCTAGGCTATGACCGAACCACAAAAGTAACGTTATGACTCTGAACGGCAGC',\n",
    "'TTGTGGCGCAACCGCAGAAATAAGCTCCATATCGACTTACCCTTTCTTCCTTAGCAGTAGGGACTCTGCCTCTCAGTGAGGGCGACCTTTGCTTACCGAGCTAAGCTTATTCTCCAACCAGATGTTGTCTGATTACGGCAGTCTGTTATGAAGAAT',\n",
    "'CACATGGGTACGCTTCATTGTCGGCCTCGAAAATGGTACAGATTTCAAGGGACATTCACCATACGGCTACCTAATCTGAGGACCGTTGCTGCCAACGCTGAGTTAGCTTATGATGCACCTTAATTTGAGCCGGAAAGCATTCCCTCGACAAATCAG',\n",
    "'GGCGCTACACGAGTGCAACCGAGCGCTAATCAAGTAGAGCAGCTCGTCACCATATTTGAAACTAATTCATACATTTAGAACTTGTCCATACGGCCTTTACGGCTGGCTCTCACGGGAGATAATGGAAGGTGGTACAAGTACTTCCATAGAAGTCTC',\n",
    "'ATACGGCAACCTTGCTCCCCATGTTCCGTAATGACGGATGGAGCTGAACCCATCCGTCACCTCCCGCCATCGCCCTGCTTCGCCCCCTGACCTCTTTGGCTTCCAGTCAGTTAGAGTCGGTAGACACGACTTCGAAATTGGTTCAGGAGATCTCAT',\n",
    "'GCGAGAGAGGGCAGGTCGACATGGATTCTATATATAACGCGGTAAGGTAACGTACAAGTACAAGCAAAAGCGTCCGAGAGCTGTATGGGTTTTCCGCCCCGAAACAAGAATCACGAGAGTCGCAATTCTTGTTTACGGCGGTCTACATCCGTGCAG',\n",
    "'TGATATTCCCATGAGATGAGAAAGTGTAGCCCGTCCCTAATAGACCCCCTTCACACTTGGGAAACGCACCCGTAAGCCCAGTTCTCATCTGCTACGTAGTTAGCACGGCCCCTCGACGCGTGGAATACTGTTCGCTTATCAGAAGTACGGCGGGCT',\n",
    "'ACCCCTTTTGCCGGCAAGTCTAAGCTACGGCCCGCTCACATGTCCGGTCGCAGGGGTCAAGCTTCGTTGTACTATAGGTGCCTACCACGACCCTTCCAGAAATTTGGTTGGCATATCAATGTGCTTATATTACGTTGTCTATCTGAAAATCTGCTA',\n",
    "'ATACGGCCGACTGCGGAATACGTCCCTTCCGACAATGCATTTTTACCAAAGCCCTACCTGCTACTTCCCCCCAGCTAATCTCCAGATCATGGTTATAAGATATAGCGGAGTGATACTAAGGATCTGTCCATTCTGGTCTTACAAATTGCGCAACGT',\n",
    "'CGGGTGACAAGCTTGTCTAAATGAATCGGAGTCCTTTTACGGCTGCCTTGTACCAGATCCAACGGACTGAGGACTTGAACTTGGATTTGGTTGGATTACCGATGGCTAAGAGTAGGGAGCGAACAGCGACTGAGATTACATACAACGCGAACTCAT']\n",
    "\n",
    "l = GreedyMotifSearch(l,12,25)\n",
    "for i in l:\n",
    "    print(i)"
   ]
  },
  {
   "cell_type": "code",
   "execution_count": null,
   "metadata": {
    "collapsed": true
   },
   "outputs": [],
   "source": []
  }
 ],
 "metadata": {
  "kernelspec": {
   "display_name": "Python 3",
   "language": "python",
   "name": "python3"
  },
  "language_info": {
   "codemirror_mode": {
    "name": "ipython",
    "version": 3
   },
   "file_extension": ".py",
   "mimetype": "text/x-python",
   "name": "python",
   "nbconvert_exporter": "python",
   "pygments_lexer": "ipython3",
   "version": "3.5.1"
  }
 },
 "nbformat": 4,
 "nbformat_minor": 0
}
